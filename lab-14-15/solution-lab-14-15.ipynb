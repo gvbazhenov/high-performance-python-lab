{
  "nbformat": 4,
  "nbformat_minor": 0,
  "metadata": {
    "colab": {
      "name": "solution-lab-14-15.ipynb",
      "provenance": [],
      "collapsed_sections": []
    },
    "kernelspec": {
      "name": "python3",
      "display_name": "Python 3"
    },
    "language_info": {
      "name": "python"
    }
  },
  "cells": [
    {
      "cell_type": "markdown",
      "metadata": {
        "id": "4jrRWpcedVZf"
      },
      "source": [
        "# Task 14. JIT the Mandelbrot Fractal\n",
        "\n",
        "Separate exercise notebook or use your own Mandelbrot code \n",
        "\n",
        "1. Profile the code, find the bottlenecks\n",
        "2. Use Numba to speed up the code\n",
        "3. Compare the timing"
      ]
    },
    {
      "cell_type": "code",
      "source": [
        "!pip install snakeviz"
      ],
      "metadata": {
        "colab": {
          "base_uri": "https://localhost:8080/"
        },
        "id": "MkPBwZUQAE0a",
        "outputId": "0fed8c62-f44e-42a9-f38c-022011759aba"
      },
      "execution_count": 1,
      "outputs": [
        {
          "output_type": "stream",
          "name": "stdout",
          "text": [
            "Requirement already satisfied: snakeviz in /usr/local/lib/python3.7/dist-packages (2.1.1)\n",
            "Requirement already satisfied: tornado>=2.0 in /usr/local/lib/python3.7/dist-packages (from snakeviz) (5.1.1)\n"
          ]
        }
      ]
    },
    {
      "cell_type": "code",
      "source": [
        "!pip install line_profiler"
      ],
      "metadata": {
        "colab": {
          "base_uri": "https://localhost:8080/"
        },
        "id": "4c_-blR6AHHD",
        "outputId": "3924f2b4-446c-43a2-c63a-47018f0612cc"
      },
      "execution_count": 2,
      "outputs": [
        {
          "output_type": "stream",
          "name": "stdout",
          "text": [
            "Requirement already satisfied: line_profiler in /usr/local/lib/python3.7/dist-packages (3.3.1)\n",
            "Requirement already satisfied: IPython>=0.13 in /usr/local/lib/python3.7/dist-packages (from line_profiler) (5.5.0)\n",
            "Requirement already satisfied: traitlets>=4.2 in /usr/local/lib/python3.7/dist-packages (from IPython>=0.13->line_profiler) (5.1.1)\n",
            "Requirement already satisfied: pexpect in /usr/local/lib/python3.7/dist-packages (from IPython>=0.13->line_profiler) (4.8.0)\n",
            "Requirement already satisfied: simplegeneric>0.8 in /usr/local/lib/python3.7/dist-packages (from IPython>=0.13->line_profiler) (0.8.1)\n",
            "Requirement already satisfied: pygments in /usr/local/lib/python3.7/dist-packages (from IPython>=0.13->line_profiler) (2.6.1)\n",
            "Requirement already satisfied: prompt-toolkit<2.0.0,>=1.0.4 in /usr/local/lib/python3.7/dist-packages (from IPython>=0.13->line_profiler) (1.0.18)\n",
            "Requirement already satisfied: pickleshare in /usr/local/lib/python3.7/dist-packages (from IPython>=0.13->line_profiler) (0.7.5)\n",
            "Requirement already satisfied: decorator in /usr/local/lib/python3.7/dist-packages (from IPython>=0.13->line_profiler) (4.4.2)\n",
            "Requirement already satisfied: setuptools>=18.5 in /usr/local/lib/python3.7/dist-packages (from IPython>=0.13->line_profiler) (57.4.0)\n",
            "Requirement already satisfied: wcwidth in /usr/local/lib/python3.7/dist-packages (from prompt-toolkit<2.0.0,>=1.0.4->IPython>=0.13->line_profiler) (0.2.5)\n",
            "Requirement already satisfied: six>=1.9.0 in /usr/local/lib/python3.7/dist-packages (from prompt-toolkit<2.0.0,>=1.0.4->IPython>=0.13->line_profiler) (1.15.0)\n",
            "Requirement already satisfied: ptyprocess>=0.5 in /usr/local/lib/python3.7/dist-packages (from pexpect->IPython>=0.13->line_profiler) (0.7.0)\n"
          ]
        }
      ]
    },
    {
      "cell_type": "code",
      "source": [
        "import numpy as np\n",
        "import numba as nb\n",
        "\n",
        "import matplotlib.pyplot as plt\n",
        "from numba import jit, njit\n",
        "\n",
        "import snakeviz\n",
        "import line_profiler\n",
        "import cProfile"
      ],
      "metadata": {
        "id": "uN1rO91l86OB"
      },
      "execution_count": 3,
      "outputs": []
    },
    {
      "cell_type": "code",
      "source": [
        "golden = (1 + 5 ** 0.5) / 2"
      ],
      "metadata": {
        "id": "zHsOtva19GgP"
      },
      "execution_count": 4,
      "outputs": []
    },
    {
      "cell_type": "code",
      "source": [
        "def julia_map(z, c):\n",
        "    return z ** 2 + c\n",
        "\n",
        "\n",
        "def check_for_convergence(z, c, n_iterations, max_module):\n",
        "    converges = True\n",
        "    \n",
        "    for i in range(1, n_iterations + 1):\n",
        "        z = julia_map(z, c)\n",
        "        \n",
        "        if abs(z) > max_module:\n",
        "            converges = False\n",
        "            break\n",
        "    \n",
        "    ratio = i / n_iterations\n",
        "    return ratio, converges\n",
        "\n",
        "\n",
        "def initialize_julia_set(x_range, y_range):\n",
        "    return np.zeros((x_range, y_range))\n",
        "\n",
        "\n",
        "def construct_julia_set(x_range, y_range, x_min, y_min, x_max, y_max, c, max_module, n_iterations):\n",
        "    width, height = x_max - x_min, y_max - y_min\n",
        "    julia_set = initialize_julia_set(x_range, y_range)\n",
        "\n",
        "    for i in range(x_range):\n",
        "        for j in range(y_range):\n",
        "\n",
        "            z = complex(i / x_range * width + x_min, j / y_range * height + y_min)\n",
        "            ratio, converges = check_for_convergence(z, c, n_iterations, max_module)\n",
        "            julia_set[i, j] = 1 - np.sqrt(ratio)\n",
        "    \n",
        "    return julia_set"
      ],
      "metadata": {
        "id": "Ac24rGny7iwQ"
      },
      "execution_count": 102,
      "outputs": []
    },
    {
      "cell_type": "code",
      "source": [
        "x_range, y_range = 500, 500\n",
        "\n",
        "x_min, x_max = -1.5, 1.5\n",
        "width = x_max - x_min\n",
        "\n",
        "y_min, y_max = -1.5, 1.5\n",
        "height = y_max - y_min"
      ],
      "metadata": {
        "id": "nMcnp97x7k9p"
      },
      "execution_count": 103,
      "outputs": []
    },
    {
      "cell_type": "code",
      "source": [
        "c = 1 - golden\n",
        "max_module = 4\n",
        "n_iterations = 200"
      ],
      "metadata": {
        "id": "W51oQEJ48RQo"
      },
      "execution_count": 104,
      "outputs": []
    },
    {
      "cell_type": "code",
      "source": [
        "args = (x_range, y_range, x_min, y_min, x_max, y_max, c, max_module, n_iterations)"
      ],
      "metadata": {
        "id": "KCvKp7Q6Lybf"
      },
      "execution_count": 105,
      "outputs": []
    },
    {
      "cell_type": "code",
      "source": [
        "%%time\n",
        "_ = construct_julia_set(*args)"
      ],
      "metadata": {
        "colab": {
          "base_uri": "https://localhost:8080/"
        },
        "id": "-TLotxQV_h92",
        "outputId": "e97ddaa3-e4fb-45ed-dea5-1729835e5f2d"
      },
      "execution_count": 106,
      "outputs": [
        {
          "output_type": "stream",
          "name": "stdout",
          "text": [
            "CPU times: user 5.43 s, sys: 26 ms, total: 5.46 s\n",
            "Wall time: 5.47 s\n"
          ]
        }
      ]
    },
    {
      "cell_type": "code",
      "source": [
        "factor = 1e2\n",
        "rr = np.logspace(0, 4, 5, base=2).astype(int) * int(factor)\n",
        "results_original_code = []\n",
        "\n",
        "for r in rr:\n",
        "    x_range = y_range = r\n",
        "\n",
        "    sup_args = (x_range, y_range, x_min, y_min, x_max, y_max, c, max_module, n_iterations)\n",
        "    results = %timeit -n 1 -o construct_julia_set(*sup_args)\n",
        "\n",
        "    results_original_code.append(results.best)\n",
        "\n",
        "results_original_code = np.array(results_original_code)"
      ],
      "metadata": {
        "colab": {
          "base_uri": "https://localhost:8080/"
        },
        "id": "_qdX6wBRhqKX",
        "outputId": "5bf0717c-8584-4787-90e9-1eb8c908467c"
      },
      "execution_count": 107,
      "outputs": [
        {
          "output_type": "stream",
          "name": "stdout",
          "text": [
            "1 loop, best of 5: 221 ms per loop\n",
            "1 loop, best of 5: 894 ms per loop\n",
            "1 loop, best of 5: 3.6 s per loop\n",
            "1 loop, best of 5: 14.4 s per loop\n",
            "1 loop, best of 5: 58 s per loop\n"
          ]
        }
      ]
    },
    {
      "cell_type": "markdown",
      "source": [
        "## Profile `construct_julia_set` Function using `cProfile`"
      ],
      "metadata": {
        "id": "cJHMbynrAq95"
      }
    },
    {
      "cell_type": "code",
      "source": [
        "cProfile.run('construct_julia_set(*args)')"
      ],
      "metadata": {
        "colab": {
          "base_uri": "https://localhost:8080/"
        },
        "id": "edoKW3CR9QV-",
        "outputId": "1bf5e5d4-b811-4e6d-b9aa-c75484428fe1"
      },
      "execution_count": 108,
      "outputs": [
        {
          "output_type": "stream",
          "name": "stdout",
          "text": [
            "         28799688 function calls in 9.187 seconds\n",
            "\n",
            "   Ordered by: standard name\n",
            "\n",
            "   ncalls  tottime  percall  cumtime  percall filename:lineno(function)\n",
            " 14274841    2.515    0.000    2.515    0.000 <ipython-input-102-3083748f9d24>:1(julia_map)\n",
            "        1    0.000    0.000    0.002    0.002 <ipython-input-102-3083748f9d24>:19(initialize_julia_set)\n",
            "        1    0.591    0.591    9.186    9.186 <ipython-input-102-3083748f9d24>:23(construct_julia_set)\n",
            "   250000    4.842    0.000    8.593    0.000 <ipython-input-102-3083748f9d24>:5(check_for_convergence)\n",
            "        1    0.000    0.000    9.187    9.187 <string>:1(<module>)\n",
            " 14274841    1.236    0.000    1.236    0.000 {built-in method builtins.abs}\n",
            "        1    0.000    0.000    9.187    9.187 {built-in method builtins.exec}\n",
            "        1    0.002    0.002    0.002    0.002 {built-in method numpy.zeros}\n",
            "        1    0.000    0.000    0.000    0.000 {method 'disable' of '_lsprof.Profiler' objects}\n",
            "\n",
            "\n"
          ]
        }
      ]
    },
    {
      "cell_type": "markdown",
      "source": [
        "## And using `line_profiler`"
      ],
      "metadata": {
        "id": "E4ZN28YOAkrB"
      }
    },
    {
      "cell_type": "code",
      "source": [
        "%load_ext line_profiler\n",
        "%lprun -T line_profiler_output.txt -f construct_julia_set construct_julia_set(*args)"
      ],
      "metadata": {
        "colab": {
          "base_uri": "https://localhost:8080/"
        },
        "id": "XqljEpOwADUz",
        "outputId": "4cfd1716-fd18-43b3-e0f0-6f0cff635596"
      },
      "execution_count": 109,
      "outputs": [
        {
          "output_type": "stream",
          "name": "stdout",
          "text": [
            "The line_profiler extension is already loaded. To reload it, use:\n",
            "  %reload_ext line_profiler\n",
            "\n",
            "*** Profile printout saved to text file 'line_profiler_output.txt'. \n"
          ]
        }
      ]
    },
    {
      "cell_type": "code",
      "source": [
        "!cat line_profiler_output.txt"
      ],
      "metadata": {
        "colab": {
          "base_uri": "https://localhost:8080/"
        },
        "id": "KUFN_KbD_psS",
        "outputId": "6d7603bd-c3c5-4307-d2b6-a35aa9646476"
      },
      "execution_count": 110,
      "outputs": [
        {
          "output_type": "stream",
          "name": "stdout",
          "text": [
            "Timer unit: 1e-06 s\n",
            "\n",
            "Total time: 14.9982 s\n",
            "File: <ipython-input-102-3083748f9d24>\n",
            "Function: construct_julia_set at line 23\n",
            "\n",
            "Line #      Hits         Time  Per Hit   % Time  Line Contents\n",
            "==============================================================\n",
            "    23                                           def construct_julia_set(x_range, y_range, x_min, y_min, x_max, y_max, c, max_module, n_iterations):\n",
            "    24         1          3.0      3.0      0.0      width, height = x_max - x_min, y_max - y_min\n",
            "    25         1        577.0    577.0      0.0      julia_set = initialize_julia_set(x_range, y_range)\n",
            "    26                                           \n",
            "    27       501        329.0      0.7      0.0      for i in range(x_range):\n",
            "    28    250500     163256.0      0.7      1.1          for j in range(y_range):\n",
            "    29                                           \n",
            "    30    250000     253783.0      1.0      1.7              z = complex(i / x_range * width + x_min, j / y_range * height + y_min)\n",
            "    31    250000   13982748.0     55.9     93.2              ratio, converges = check_for_convergence(z, c, n_iterations, max_module)\n",
            "    32    250000     597522.0      2.4      4.0              julia_set[i, j] = 1 - np.sqrt(ratio)\n",
            "    33                                               \n",
            "    34         1          1.0      1.0      0.0      return julia_set"
          ]
        }
      ]
    },
    {
      "cell_type": "markdown",
      "source": [
        "## Try to Exploit `numba`"
      ],
      "metadata": {
        "id": "c-Q3hMGvInYe"
      }
    },
    {
      "cell_type": "code",
      "source": [
        "# ---------------------------------- numba knows about numbers and logical variables ----------------------------------\n",
        "@njit\n",
        "def julia_map(z, c):\n",
        "    return z ** 2 + c\n",
        "\n",
        "\n",
        "@njit\n",
        "def check_for_convergence(z, c, n_iterations, max_module):\n",
        "    converges = True\n",
        "    \n",
        "    for i in range(1, n_iterations + 1):\n",
        "        z = julia_map(z, c)\n",
        "        \n",
        "        if abs(z) > max_module:\n",
        "            converges = False\n",
        "            break\n",
        "    \n",
        "    ratio = i / n_iterations\n",
        "    return ratio, converges\n",
        "\n",
        "\n",
        "# --------------------------------------- and numba understands numpy functions ---------------------------------------\n",
        "@njit\n",
        "def initialize_julia_set(x_range, y_range):\n",
        "    return np.zeros((x_range, y_range))\n",
        "\n",
        "@njit\n",
        "def construct_julia_set(x_range, y_range, x_min, y_min, x_max, y_max, c, max_module, n_iterations):\n",
        "    width, height = x_max - x_min, y_max - y_min\n",
        "    julia_set = initialize_julia_set(x_range, y_range)\n",
        "\n",
        "    for i in range(x_range):\n",
        "        for j in range(y_range):\n",
        "\n",
        "            z = complex(i / x_range * width + x_min, j / y_range * height + y_min)\n",
        "            ratio, converges = check_for_convergence(z, c, n_iterations, max_module)\n",
        "            julia_set[i, j] = 1 - np.sqrt(ratio)\n",
        "    \n",
        "    return julia_set"
      ],
      "metadata": {
        "id": "Qd4AKIeuC-iq"
      },
      "execution_count": 111,
      "outputs": []
    },
    {
      "cell_type": "code",
      "source": [
        "%%time\n",
        "_ = construct_julia_set(*args)"
      ],
      "metadata": {
        "colab": {
          "base_uri": "https://localhost:8080/"
        },
        "outputId": "f82f4acc-011c-468b-fcc8-5c16b042124d",
        "id": "6eRSZOdrNzRU"
      },
      "execution_count": 112,
      "outputs": [
        {
          "output_type": "stream",
          "name": "stdout",
          "text": [
            "CPU times: user 667 ms, sys: 9.01 ms, total: 676 ms\n",
            "Wall time: 674 ms\n"
          ]
        }
      ]
    },
    {
      "cell_type": "markdown",
      "source": [
        "We should recall that `numba` has to compile given function before it executes the machine code version of this function, which takes time. However, once the compilation has taken place `numba` caches the machine code version of given function for the particular types of arguments presented. If it is called again the with same types, it can reuse the cached version instead of having to compile again — this is the reason why we have to skip the evuluation in the previous cell."
      ],
      "metadata": {
        "id": "4aGgULdnOgng"
      }
    },
    {
      "cell_type": "code",
      "source": [
        "factor = 1e2\n",
        "rr = np.logspace(0, 4, 5, base=2).astype(int) * int(factor)\n",
        "results_compiled_code = []\n",
        "\n",
        "for r in rr:\n",
        "    x_range = y_range = r\n",
        "\n",
        "    sup_args = (x_range, y_range, x_min, y_min, x_max, y_max, c, max_module, n_iterations)\n",
        "    results = %timeit -n 1 -o construct_julia_set(*sup_args)\n",
        "\n",
        "    results_compiled_code.append(results.best)\n",
        "\n",
        "results_compiled_code = np.array(results_compiled_code)"
      ],
      "metadata": {
        "colab": {
          "base_uri": "https://localhost:8080/"
        },
        "id": "c0_IKi2pj7nc",
        "outputId": "63cc0002-2533-4929-a9cb-845f6981bb39"
      },
      "execution_count": 113,
      "outputs": [
        {
          "output_type": "stream",
          "name": "stdout",
          "text": [
            "1 loop, best of 5: 7.41 ms per loop\n",
            "1 loop, best of 5: 30 ms per loop\n",
            "1 loop, best of 5: 122 ms per loop\n",
            "1 loop, best of 5: 474 ms per loop\n",
            "1 loop, best of 5: 1.91 s per loop\n"
          ]
        }
      ]
    },
    {
      "cell_type": "markdown",
      "source": [
        "## Compare Performance of the Original Code and the Compiled One Using `numba`"
      ],
      "metadata": {
        "id": "VcT5PHyfMJ24"
      }
    },
    {
      "cell_type": "code",
      "source": [
        "plt.figure(figsize=(10, 8))\n",
        "\n",
        "plt.plot(rr / factor, results_original_code, '-o', label='original')\n",
        "plt.plot(rr / factor, results_compiled_code, '-o', label='numba compiled')\n",
        "\n",
        "plt.xlabel(f'number of iterations, x{int(factor)}', fontsize=14)\n",
        "plt.ylabel('time', fontsize=14)\n",
        "\n",
        "plt.yscale('log', basey=10)\n",
        "plt.xscale('log', basex=2)\n",
        "\n",
        "plt.legend(fontsize=14)\n",
        "plt.grid()\n",
        "plt.show()"
      ],
      "metadata": {
        "colab": {
          "base_uri": "https://localhost:8080/",
          "height": 504
        },
        "id": "_Wx3FM_ehO6Q",
        "outputId": "bfc9b202-c39f-4387-f03e-92f7a177adde"
      },
      "execution_count": 114,
      "outputs": [
        {
          "output_type": "display_data",
          "data": {
            "image/png": "[encoded data removed]",
            "text/plain": [
              "<Figure size 720x576 with 1 Axes>"
            ]
          },
          "metadata": {
            "needs_background": "light"
          }
        }
      ]
    },
    {
      "cell_type": "code",
      "source": [
        "results_original_code / results_compiled_code"
      ],
      "metadata": {
        "colab": {
          "base_uri": "https://localhost:8080/"
        },
        "id": "c9MVDeqSndUZ",
        "outputId": "100f2b89-3fbe-4f67-9b48-72b27af00d5c"
      },
      "execution_count": 115,
      "outputs": [
        {
          "output_type": "execute_result",
          "data": {
            "text/plain": [
              "array([29.84252355, 29.80623134, 29.4077087 , 30.43462213, 30.4294402 ])"
            ]
          },
          "metadata": {},
          "execution_count": 115
        }
      ]
    },
    {
      "cell_type": "markdown",
      "source": [
        "As can be seen, the `numba` compiled code is **30 times** faster!"
      ],
      "metadata": {
        "id": "qiMtPo4AOJc1"
      }
    },
    {
      "cell_type": "markdown",
      "metadata": {
        "id": "YIA-8y-bdVZi"
      },
      "source": [
        "# Task 15. N-Body Problem\n",
        "\n",
        "Many physical problems require the evaluation of all pairwise interactions of a large number of particles, so-called N-body problems. These problems arise in molecular dynamics, astrodynamics and electromagnetics among others. \n",
        "\n",
        "Their pairwise interactions can be expressed as:\n",
        "\n",
        "\\begin{equation}\n",
        "f_i = \\sum_{j=1}^n{P \\left(\\boldsymbol{x}_i, \\boldsymbol{x}_j \\right)w_j} \\ \\ \\ \\text{for } i=1,2,...,n \n",
        "\\end{equation}\n",
        "\n",
        "*  where subscripts $i$,  $j$ respectively denote *target* and *source*\n",
        "*  $f_i$ can be a *potential* (or *force*) at target point $i$\n",
        "*  $w_j$ is the *source weight* \n",
        "*  $\\boldsymbol{x}_i, \\boldsymbol{x}_j$ are the *spatial positions* of particles \n",
        "*  $P \\left(\\boldsymbol{x}_i, \\boldsymbol{x}_j \\right)$ is the *interaction kernel*. \n",
        "\n",
        "In order to evalute the potential $f_i$ at a target point $i$, we have to loop over each source particle $j$. Since there are $n$ target points $i$, this 'brute-force' approach costs $\\mathcal{O} \\left(n^2 \\right)$ operations. \n",
        "\n",
        "One possible approach in this kind of problem is to define a few classes, say `Point` and `Particle` and then loop over the objects and perform the necessary point-to-point calculations."
      ]
    },
    {
      "cell_type": "code",
      "execution_count": 74,
      "metadata": {
        "id": "pCe9wL6UdVZi"
      },
      "outputs": [],
      "source": [
        "class Point():\n",
        "    \"\"\"    \n",
        "    Arguments:\n",
        "        domain: the domain of random generated coordinates x,y,z, \n",
        "                default=1.0\n",
        "    \n",
        "    Attributes:\n",
        "        x, y, z: coordinates of the point\n",
        "    \"\"\"\n",
        "    def __init__(self, domain=1.0):\n",
        "        self.x = domain * np.random.random()\n",
        "        self.y = domain * np.random.random()\n",
        "        self.z = domain * np.random.random()\n",
        "            \n",
        "    def distance(self, other):\n",
        "        return ((self.x - other.x)**2 + \n",
        "                (self.y - other.y)**2 + \n",
        "                (self.z - other.z)**2)**.5"
      ]
    },
    {
      "cell_type": "code",
      "execution_count": 75,
      "metadata": {
        "id": "5dEu5v9RdVZj"
      },
      "outputs": [],
      "source": [
        "class Particle(Point):\n",
        "    \"\"\"    \n",
        "    Attributes:\n",
        "        m: mass of the particle\n",
        "        phi: the potential of the particle\n",
        "    \"\"\"\n",
        "    \n",
        "    def __init__(self, domain=1.0, m=1.0):\n",
        "        Point.__init__(self, domain)\n",
        "        self.m = m\n",
        "        self.phi = 0."
      ]
    },
    {
      "cell_type": "markdown",
      "metadata": {
        "id": "m_qbRcrkdVZj"
      },
      "source": [
        "Now we create a list of `n` random particles, define a function to calculate their interaction via direct summation and run!"
      ]
    },
    {
      "cell_type": "code",
      "source": [
        "def create_n_random_particles(n, m, domain=1.0):\n",
        "    return [Particle(domain, m) for _ in range(n)]"
      ],
      "metadata": {
        "id": "k36Kim-4oFSo"
      },
      "execution_count": 76,
      "outputs": []
    },
    {
      "cell_type": "code",
      "execution_count": 77,
      "metadata": {
        "id": "_WkmXRoDdVZj"
      },
      "outputs": [],
      "source": [
        "n = 1000\n",
        "m = 1 / n\n",
        "particles = create_n_random_particles(n, m)"
      ]
    },
    {
      "cell_type": "code",
      "execution_count": 78,
      "metadata": {
        "id": "q_ZEnU7OdVZj"
      },
      "outputs": [],
      "source": [
        "def direct_sum(particles):\n",
        "    \"\"\"\n",
        "    Calculate the potential at each particle\n",
        "    using direct summation method.\n",
        "\n",
        "    Arguments:\n",
        "        particles: the list of particles\n",
        "\n",
        "    \"\"\"\n",
        "\n",
        "    for i, target in enumerate(particles):\n",
        "        for source in (particles[:i] + particles[i + 1:]):\n",
        "            r = target.distance(source)\n",
        "            target.phi += source.m / r"
      ]
    },
    {
      "cell_type": "code",
      "source": [
        "%%time\n",
        "direct_sum(particles)"
      ],
      "metadata": {
        "colab": {
          "base_uri": "https://localhost:8080/"
        },
        "id": "Gcw3ubImewJU",
        "outputId": "df98a2d1-c155-4b68-8e96-6f5d059820f2"
      },
      "execution_count": 79,
      "outputs": [
        {
          "output_type": "stream",
          "name": "stdout",
          "text": [
            "CPU times: user 961 ms, sys: 5 ms, total: 966 ms\n",
            "Wall time: 970 ms\n"
          ]
        }
      ]
    },
    {
      "cell_type": "code",
      "source": [
        "nn = np.logspace(8, 12, 5, base=2).astype(int)\n",
        "results_original_code = []\n",
        "\n",
        "for n in nn:\n",
        "    m = 1 / n # for instance\n",
        "    sup_particles = create_n_random_particles(n, m)\n",
        "    results = %timeit -n 1 -o direct_sum(sup_particles)\n",
        "\n",
        "    results_original_code.append(results.best)\n",
        "\n",
        "results_original_code = np.array(results_original_code)"
      ],
      "metadata": {
        "colab": {
          "base_uri": "https://localhost:8080/"
        },
        "id": "XVCRgeeIn1FU",
        "outputId": "98eb205d-e814-4f05-97ac-dc3f68510143"
      },
      "execution_count": 51,
      "outputs": [
        {
          "output_type": "stream",
          "name": "stdout",
          "text": [
            "1 loop, best of 5: 77.9 ms per loop\n",
            "1 loop, best of 5: 308 ms per loop\n",
            "1 loop, best of 5: 1.26 s per loop\n",
            "1 loop, best of 5: 5.04 s per loop\n",
            "1 loop, best of 5: 20.7 s per loop\n"
          ]
        }
      ]
    },
    {
      "cell_type": "markdown",
      "source": [
        "## Profile `direct_sum` Function using `line_profiler`"
      ],
      "metadata": {
        "id": "zLKjGzAvpwBr"
      }
    },
    {
      "cell_type": "code",
      "execution_count": 80,
      "metadata": {
        "id": "JDl4MbZrdVZk",
        "colab": {
          "base_uri": "https://localhost:8080/"
        },
        "outputId": "f8aa4d4d-39ff-478b-dd53-97138ff8955e"
      },
      "outputs": [
        {
          "output_type": "stream",
          "name": "stdout",
          "text": [
            "The line_profiler extension is already loaded. To reload it, use:\n",
            "  %reload_ext line_profiler\n",
            "\n",
            "*** Profile printout saved to text file 'line_profiler_output.txt'. \n"
          ]
        }
      ],
      "source": [
        "%load_ext line_profiler\n",
        "%lprun -T line_profiler_output.txt -f direct_sum direct_sum(particles)"
      ]
    },
    {
      "cell_type": "code",
      "source": [
        "!cat line_profiler_output.txt"
      ],
      "metadata": {
        "colab": {
          "base_uri": "https://localhost:8080/"
        },
        "id": "QmqNSGloYSCQ",
        "outputId": "1960845c-f433-4caa-f0c2-2f2839484480"
      },
      "execution_count": 81,
      "outputs": [
        {
          "output_type": "stream",
          "name": "stdout",
          "text": [
            "Timer unit: 1e-06 s\n",
            "\n",
            "Total time: 2.76532 s\n",
            "File: <ipython-input-78-8ffb2e79a39a>\n",
            "Function: direct_sum at line 1\n",
            "\n",
            "Line #      Hits         Time  Per Hit   % Time  Line Contents\n",
            "==============================================================\n",
            "     1                                           def direct_sum(particles):\n",
            "     2                                               \"\"\"\n",
            "     3                                               Calculate the potential at each particle\n",
            "     4                                               using direct summation method.\n",
            "     5                                           \n",
            "     6                                               Arguments:\n",
            "     7                                                   particles: the list of particles\n",
            "     8                                           \n",
            "     9                                               \"\"\"\n",
            "    10                                           \n",
            "    11      1001       1006.0      1.0      0.0      for i, target in enumerate(particles):\n",
            "    12   1000000     427782.0      0.4     15.5          for source in (particles[:i] + particles[i + 1:]):\n",
            "    13    999000    1692606.0      1.7     61.2              r = target.distance(source)\n",
            "    14    999000     643929.0      0.6     23.3              target.phi += source.m / r"
          ]
        }
      ]
    },
    {
      "cell_type": "markdown",
      "metadata": {
        "id": "Ppjh_WtIdVZk"
      },
      "source": [
        "## How Do We Use `numba` on This Problem?\n",
        "Problem: Numba doesn't support jitting native Python classes.  There is a `jit_class` structure in Numba but it's still in early development.\n",
        "\n",
        "But it's nice to have attributes for literate programming.\n",
        "\n",
        "Solution: NumPy custom dtypes."
      ]
    },
    {
      "cell_type": "code",
      "execution_count": 82,
      "metadata": {
        "id": "EmZtzEVddVZk"
      },
      "outputs": [],
      "source": [
        "particle_dtype = np.dtype({'names': ['x','y','z','m','phi'], \n",
        "                           'formats': [np.double, np.double, np.double, np.double, np.double]})"
      ]
    },
    {
      "cell_type": "code",
      "execution_count": 83,
      "metadata": {
        "id": "NuqPDLxAdVZk"
      },
      "outputs": [],
      "source": [
        "my_array = np.zeros(3, dtype=particle_dtype)"
      ]
    },
    {
      "cell_type": "code",
      "execution_count": 84,
      "metadata": {
        "id": "P-MEMGJudVZk",
        "colab": {
          "base_uri": "https://localhost:8080/"
        },
        "outputId": "8d185c5f-15b2-44ab-d7db-7faf9d4615d5"
      },
      "outputs": [
        {
          "output_type": "execute_result",
          "data": {
            "text/plain": [
              "array([(0., 0., 0., 0., 0.), (0., 0., 0., 0., 0.), (0., 0., 0., 0., 0.)],\n",
              "      dtype=[('x', '<f8'), ('y', '<f8'), ('z', '<f8'), ('m', '<f8'), ('phi', '<f8')])"
            ]
          },
          "metadata": {},
          "execution_count": 84
        }
      ],
      "source": [
        "my_array"
      ]
    },
    {
      "cell_type": "code",
      "execution_count": 85,
      "metadata": {
        "id": "ZqN4dCC_dVZk"
      },
      "outputs": [],
      "source": [
        "my_array[0]['x'] = 2.0"
      ]
    },
    {
      "cell_type": "code",
      "execution_count": 86,
      "metadata": {
        "id": "smT_e-PwdVZk",
        "colab": {
          "base_uri": "https://localhost:8080/"
        },
        "outputId": "74353e52-6fdc-4af0-860b-0655dae244e7"
      },
      "outputs": [
        {
          "output_type": "execute_result",
          "data": {
            "text/plain": [
              "array([(2., 0., 0., 0., 0.), (0., 0., 0., 0., 0.), (0., 0., 0., 0., 0.)],\n",
              "      dtype=[('x', '<f8'), ('y', '<f8'), ('z', '<f8'), ('m', '<f8'), ('phi', '<f8')])"
            ]
          },
          "metadata": {},
          "execution_count": 86
        }
      ],
      "source": [
        "my_array"
      ]
    },
    {
      "cell_type": "markdown",
      "metadata": {
        "id": "gur3cMyodVZk"
      },
      "source": [
        "## Exercise 1\n",
        "\n",
        "Write a function `create_n_random_particles` that takes the arguments `n` (number of particles), `m` (mass of every particle) and a domain within to generate a random number (as in the class above).\n",
        "It should create an array with `n` elements and `dtype=particle_dtype` and then return that array.\n",
        "\n",
        "For each particle, the mass should be initialized to the value of `m` and the potential `phi` initialized to zero.\n",
        "\n",
        "For the `x` component of a given particle `p`, you might do something like\n",
        "\n",
        "```python\n",
        "p['x'] = domain * numpy.random.random()\n",
        "```"
      ]
    },
    {
      "cell_type": "code",
      "source": [
        "particles = np.zeros((n), dtype=particle_dtype)"
      ],
      "metadata": {
        "id": "149Afcz7bPuM"
      },
      "execution_count": 87,
      "outputs": []
    },
    {
      "cell_type": "code",
      "execution_count": 88,
      "metadata": {
        "id": "VCpyPJYqdVZl"
      },
      "outputs": [],
      "source": [
        "@njit\n",
        "def create_n_random_particles(n, m, domain=1.0):\n",
        "    '''\n",
        "    Creates `n` particles with mass `m` with random coordinates\n",
        "    between 0 and `domain`\n",
        "    '''\n",
        "    particles = np.zeros((n), dtype=particle_dtype)\n",
        "\n",
        "    for particle in particles:\n",
        "        particle['x'] = domain * np.random.random()\n",
        "        particle['y'] = domain * np.random.random()\n",
        "        particle['z'] = domain * np.random.random()\n",
        "\n",
        "        particle['m'] = m\n",
        "\n",
        "    return particles"
      ]
    },
    {
      "cell_type": "code",
      "execution_count": 89,
      "metadata": {
        "id": "ggycW-zMdVZl"
      },
      "outputs": [],
      "source": [
        "particles = create_n_random_particles(1000, .001, 1)"
      ]
    },
    {
      "cell_type": "markdown",
      "metadata": {
        "id": "4VcJnc5LdVZl"
      },
      "source": [
        "## Exercise 2\n",
        "\n",
        "Write a JITted function `distance` to calculate the distance between two particles of dtype `particle_dtype`\n",
        "\n",
        "Here's the `distance` method from the `Particle` class as a reference:\n",
        "\n",
        "```python\n",
        "def distance(self, other):\n",
        "        return ((self.x - other.x)**2 + \n",
        "                (self.y - other.y)**2 + \n",
        "                (self.z - other.z)**2)**.5\n",
        "```"
      ]
    },
    {
      "cell_type": "code",
      "execution_count": 90,
      "metadata": {
        "id": "A6RjT1YgdVZl"
      },
      "outputs": [],
      "source": [
        "@njit\n",
        "def distance(particle_1, particle_2):\n",
        "    '''calculate the distance between two particles'''\n",
        "    \n",
        "    return ((particle_1['x'] - particle_2['x'])**2 + \n",
        "            (particle_1['y'] - particle_2['y'])**2 + \n",
        "            (particle_1['z'] - particle_2['z'])**2)**.5"
      ]
    },
    {
      "cell_type": "code",
      "execution_count": 91,
      "metadata": {
        "id": "m3utvvzPdVZl",
        "colab": {
          "base_uri": "https://localhost:8080/"
        },
        "outputId": "636660a9-afb5-4cbc-964e-34eae4537f8a"
      },
      "outputs": [
        {
          "output_type": "execute_result",
          "data": {
            "text/plain": [
              "0.3571408867855002"
            ]
          },
          "metadata": {},
          "execution_count": 91
        }
      ],
      "source": [
        "distance(particles[0], particles[1])"
      ]
    },
    {
      "cell_type": "markdown",
      "metadata": {
        "id": "DJlUsY5ydVZl"
      },
      "source": [
        "## Exercise 3\n",
        "Modify the original `direct_sum` function (copied below for reference) to instead work a NumPy array of particles.  Loop over each element in the array and calculate its total potential.\n",
        "\n",
        "```python\n",
        "def direct_sum(particles):\n",
        "    \"\"\"\n",
        "    Calculate the potential at each particle\n",
        "    using direct summation method.\n",
        "\n",
        "    Arguments:\n",
        "        particles: the list of particles\n",
        "\n",
        "    \"\"\"\n",
        "    for i, target in enumerate(particles):\n",
        "        for source in (particles[:i] + particles[i + 1:]):\n",
        "            r = target.distance(source)\n",
        "            target.phi += source.m / r\n",
        "```"
      ]
    },
    {
      "cell_type": "code",
      "execution_count": 92,
      "metadata": {
        "id": "kTB9GW3IdVZl"
      },
      "outputs": [],
      "source": [
        "@njit\n",
        "def direct_sum(particles):\n",
        "    for i, target in enumerate(particles):\n",
        "        for j, source in enumerate(particles):\n",
        "            if j != i:\n",
        "                r = distance(target, source)\n",
        "                target['phi'] += source['m'] / r"
      ]
    },
    {
      "cell_type": "code",
      "execution_count": 93,
      "metadata": {
        "id": "gQSTWD92dVZl",
        "colab": {
          "base_uri": "https://localhost:8080/"
        },
        "outputId": "3b6adc75-1e82-4059-b49e-aca7859d1b8a"
      },
      "outputs": [
        {
          "output_type": "stream",
          "name": "stdout",
          "text": [
            "CPU times: user 154 ms, sys: 3 ms, total: 157 ms\n",
            "Wall time: 158 ms\n"
          ]
        }
      ],
      "source": [
        "%%time\n",
        "direct_sum(particles) # this code also serves for compilation"
      ]
    },
    {
      "cell_type": "code",
      "source": [
        "nn = np.logspace(8, 12, 5, base=2).astype(int)\n",
        "results_compiled_code = []\n",
        "\n",
        "for n in nn:\n",
        "    m = 1 / n # for instance\n",
        "    particles = create_n_random_particles(n, m)\n",
        "    results = %timeit -n 1 -o direct_sum(particles)\n",
        "\n",
        "    results_compiled_code.append(results.best)\n",
        "\n",
        "results_compiled_code = np.array(results_compiled_code)"
      ],
      "metadata": {
        "colab": {
          "base_uri": "https://localhost:8080/"
        },
        "id": "NNCHnI3sqbGX",
        "outputId": "e2936b53-0f73-4580-e85c-7108f167fd69"
      },
      "execution_count": 94,
      "outputs": [
        {
          "output_type": "stream",
          "name": "stdout",
          "text": [
            "1 loop, best of 5: 262 µs per loop\n",
            "1 loop, best of 5: 1.05 ms per loop\n",
            "1 loop, best of 5: 4.24 ms per loop\n",
            "1 loop, best of 5: 16.8 ms per loop\n",
            "1 loop, best of 5: 68 ms per loop\n"
          ]
        }
      ]
    },
    {
      "cell_type": "markdown",
      "source": [
        "## Compare Performance of the Original Code and the Compiled One Using `numba`"
      ],
      "metadata": {
        "id": "MV6XQL6_dtfc"
      }
    },
    {
      "cell_type": "code",
      "source": [
        "plt.figure(figsize=(10, 8))\n",
        "\n",
        "plt.plot(nn, results_original_code, '-o', label='original')\n",
        "plt.plot(nn, results_compiled_code, '-o', label='numba compiled')\n",
        "\n",
        "plt.xlabel('number of iterations', fontsize=14)\n",
        "plt.ylabel('time', fontsize=14)\n",
        "\n",
        "plt.yscale('log', basey=10)\n",
        "plt.xscale('log', basex=2)\n",
        "\n",
        "plt.legend(fontsize=14)\n",
        "plt.grid()\n",
        "plt.show()"
      ],
      "metadata": {
        "colab": {
          "base_uri": "https://localhost:8080/",
          "height": 504
        },
        "outputId": "0763d132-818c-4a5d-9708-925bd81b1ef9",
        "id": "Q65Cv9S9ru1M"
      },
      "execution_count": 95,
      "outputs": [
        {
          "output_type": "display_data",
          "data": {
            "image/png": "[encoded data removed]",
            "text/plain": [
              "<Figure size 720x576 with 1 Axes>"
            ]
          },
          "metadata": {
            "needs_background": "light"
          }
        }
      ]
    },
    {
      "cell_type": "code",
      "execution_count": 96,
      "metadata": {
        "id": "VKp0z2BndVZm",
        "colab": {
          "base_uri": "https://localhost:8080/"
        },
        "outputId": "73a4226d-60db-43ce-ea4a-dd86422f0f1f"
      },
      "outputs": [
        {
          "output_type": "execute_result",
          "data": {
            "text/plain": [
              "array([297.63112478, 292.317324  , 296.43835118, 299.44667595,\n",
              "       304.6830549 ])"
            ]
          },
          "metadata": {},
          "execution_count": 96
        }
      ],
      "source": [
        "results_original_code / results_compiled_code"
      ]
    },
    {
      "cell_type": "markdown",
      "source": [
        "This particular problem has even more space for speedup — the `numba` compiled code is **300 times faster**!"
      ],
      "metadata": {
        "id": "P7kZO3oLeaFI"
      }
    },
    {
      "cell_type": "code",
      "source": [
        ""
      ],
      "metadata": {
        "id": "A0AUftPReY8j"
      },
      "execution_count": 68,
      "outputs": []
    }
  ]
}