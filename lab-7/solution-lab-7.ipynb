{
 "cells": [
  {
   "cell_type": "code",
   "execution_count": 1,
   "metadata": {
    "colab": {
     "base_uri": "https://localhost:8080/"
    },
    "id": "Z9ONzaBgqmt0",
    "outputId": "4bea438d-7952-4a74-f8d4-168959d08be2"
   },
   "outputs": [
    {
     "name": "stdout",
     "output_type": "stream",
     "text": [
      "Collecting mpi4py\n",
      "  Downloading mpi4py-3.1.3.tar.gz (2.5 MB)\n",
      "\u001b[K     |████████████████████████████████| 2.5 MB 4.7 MB/s \n",
      "\u001b[?25h  Installing build dependencies ... \u001b[?25l\u001b[?25hdone\n",
      "  Getting requirements to build wheel ... \u001b[?25l\u001b[?25hdone\n",
      "    Preparing wheel metadata ... \u001b[?25l\u001b[?25hdone\n",
      "Building wheels for collected packages: mpi4py\n",
      "  Building wheel for mpi4py (PEP 517) ... \u001b[?25l\u001b[?25hdone\n",
      "  Created wheel for mpi4py: filename=mpi4py-3.1.3-cp37-cp37m-linux_x86_64.whl size=2185292 sha256=d51c4a62254887ce48c469ad0cd9bb233fcf348aec5312bcd98c131e60c394a9\n",
      "  Stored in directory: /root/.cache/pip/wheels/7a/07/14/6a0c63fa2c6e473c6edc40985b7d89f05c61ff25ee7f0ad9ac\n",
      "Successfully built mpi4py\n",
      "Installing collected packages: mpi4py\n",
      "Successfully installed mpi4py-3.1.3\n"
     ]
    }
   ],
   "source": [
    "!pip install mpi4py"
   ]
  },
  {
   "cell_type": "code",
   "execution_count": 2,
   "metadata": {
    "id": "okgDet1J9xBW"
   },
   "outputs": [],
   "source": [
    "import numpy as np\n",
    "import matplotlib.pyplot as plt\n",
    "import pickle\n",
    "\n",
    "from sympy import Symbol, lambdify, integrate\n",
    "from mpi4py import MPI"
   ]
  },
  {
   "cell_type": "markdown",
   "metadata": {
    "id": "jItLzxtOSZ3G"
   },
   "source": [
    "# 1. Implement Integration: Analytical & Trapezoidal"
   ]
  },
  {
   "cell_type": "code",
   "execution_count": 3,
   "metadata": {
    "id": "dmI302lB-RH3"
   },
   "outputs": [],
   "source": [
    "def integrate_analytical(y, x, limits):\n",
    "    primitive = integrate(y, x)\n",
    "    f = lambdify(x, primitive, 'numpy')\n",
    "\n",
    "    res = f(limits)\n",
    "    return res[1] - res[0]"
   ]
  },
  {
   "cell_type": "code",
   "execution_count": 4,
   "metadata": {
    "id": "UIyQCpg-_OTJ"
   },
   "outputs": [],
   "source": [
    "def integrate_trapezoidal(f, limits, n_steps=100):\n",
    "    start, stop = limits\n",
    "    delta = (limits[1] - limits[0]) / n_steps\n",
    "    res = 0\n",
    "    \n",
    "    for i in range(n_steps):\n",
    "        res += (f(start + i * delta) + f(start + (i + 1) * delta)) / 2 * delta\n",
    "    return res"
   ]
  },
  {
   "cell_type": "code",
   "execution_count": 5,
   "metadata": {
    "id": "tA9PPU3A90HJ"
   },
   "outputs": [],
   "source": [
    "x = Symbol('x')\n",
    "y = 4 * x ** 3 + 3 * x ** 2 + 2 * x + 1"
   ]
  },
  {
   "cell_type": "code",
   "execution_count": 6,
   "metadata": {
    "id": "vllJteyIr9eE"
   },
   "outputs": [],
   "source": [
    "f = lambdify(x, y, 'numpy')\n",
    "limits = np.array([-1, 1])"
   ]
  },
  {
   "cell_type": "code",
   "execution_count": 7,
   "metadata": {
    "colab": {
     "base_uri": "https://localhost:8080/"
    },
    "id": "BTfjFceCD-G7",
    "outputId": "9bf17be5-ff7c-439d-ca6e-9b705ddd05b2"
   },
   "outputs": [
    {
     "data": {
      "text/plain": [
       "4"
      ]
     },
     "execution_count": 7,
     "metadata": {},
     "output_type": "execute_result"
    }
   ],
   "source": [
    "integrate_analytical(y, x, limits)"
   ]
  },
  {
   "cell_type": "code",
   "execution_count": 8,
   "metadata": {
    "colab": {
     "base_uri": "https://localhost:8080/"
    },
    "id": "FU9sv_aUA6qz",
    "outputId": "f5ec7151-1084-48de-91a6-ce9d5a79ca9a"
   },
   "outputs": [
    {
     "data": {
      "text/plain": [
       "4.000400000000001"
      ]
     },
     "execution_count": 8,
     "metadata": {},
     "output_type": "execute_result"
    }
   ],
   "source": [
    "integrate_trapezoidal(f, limits)"
   ]
  },
  {
   "cell_type": "markdown",
   "metadata": {
    "id": "aMunanzjSe6v"
   },
   "source": [
    "# 2. Implement Parallel Integration using `mpi4py`"
   ]
  },
  {
   "cell_type": "code",
   "execution_count": 10,
   "metadata": {
    "colab": {
     "base_uri": "https://localhost:8080/"
    },
    "id": "11b_tCsdJa3k",
    "outputId": "fafae2c7-dfdb-4f99-9fc7-973f214ff98d"
   },
   "outputs": [
    {
     "name": "stdout",
     "output_type": "stream",
     "text": [
      "Writing solution-lab-7.py\n"
     ]
    }
   ],
   "source": [
    "%%writefile solution-lab-7.py\n",
    "\n",
    "import numpy as np\n",
    "import pickle\n",
    "import sys\n",
    "\n",
    "from sympy import Symbol, lambdify, integrate\n",
    "from mpi4py import MPI\n",
    "\n",
    "def integrate_analytical(y, x, limits):\n",
    "    primitive = integrate(y, x)\n",
    "    f = lambdify(x, primitive, 'numpy')\n",
    "\n",
    "    res = f(limits)\n",
    "    return res[1] - res[0]\n",
    "\n",
    "def integrate_trapezoidal(f, limits, n_steps=100):\n",
    "    start, stop = limits\n",
    "    delta = (limits[1] - limits[0]) / n_steps\n",
    "    res = 0\n",
    "\n",
    "    for i in range(n_steps):\n",
    "        res += (f(start + i * delta) + f(start + (i + 1) * delta)) / 2 * delta\n",
    "    return res\n",
    "\n",
    "### setup mpi environment\n",
    "\n",
    "comm = MPI.COMM_WORLD\n",
    "# start = MPI.Wtime()\n",
    "\n",
    "rank = comm.Get_rank()\n",
    "size = comm.Get_size()\n",
    "root = 0\n",
    "\n",
    "### define parameters for integration\n",
    "\n",
    "x = Symbol('x')\n",
    "y = 4 * x ** 3 + 3 * x ** 2 + 2 * x + 1\n",
    "\n",
    "f = lambdify(x, y, 'numpy')\n",
    "\n",
    "n_steps = 1000 if len(sys.argv) < 2 else int(sys.argv[1])\n",
    "n_steps = max(size, n_steps)\n",
    "\n",
    "left, right = (-1, 1) if len(sys.argv) < 4 else (int(sys.argv[2]), int(sys.argv[3]))\n",
    "step = (right - left) / size\n",
    "\n",
    "### assign integration parts between processes\n",
    "\n",
    "limits = np.array([left + step * rank, left + step * (rank + 1)])\n",
    "\n",
    "### perform integration in every process\n",
    "\n",
    "start = MPI.Wtime()\n",
    "integral = integrate_trapezoidal(f, limits, n_steps // size)\n",
    "\n",
    "### gather integration results in root process\n",
    "end = MPI.Wtime()\n",
    "result = comm.reduce(integral, op=MPI.SUM, root=root)\n",
    "\n",
    "actual_value = integrate_analytical(y, x, np.array([left, right]))\n",
    "\n",
    "if rank == root:\n",
    "    with open(f'values-{size}-{n_steps}.pkl', 'wb') as f:\n",
    "        pickle.dump((actual_value, result), f)\n",
    "    \n",
    "    with open(f'time-{size}-{n_steps}.pkl', 'wb') as f:\n",
    "        pickle.dump(end - start, f)"
   ]
  },
  {
   "cell_type": "code",
   "execution_count": 11,
   "metadata": {
    "id": "5p54B_idEzLE"
   },
   "outputs": [],
   "source": [
    "n_processes = 4\n",
    "n_steps = int(1e5)\n",
    "!mpirun --allow-run-as-root -n {n_processes} python3 solution-lab-7.py {n_steps}"
   ]
  },
  {
   "cell_type": "code",
   "execution_count": 12,
   "metadata": {
    "id": "8AtkjhKtwUQn"
   },
   "outputs": [],
   "source": [
    "with open(f'values-{n_processes}-{n_steps}.pkl', 'rb') as f:\n",
    "    actual_value, result = pickle.load(f)"
   ]
  },
  {
   "cell_type": "code",
   "execution_count": 13,
   "metadata": {
    "colab": {
     "base_uri": "https://localhost:8080/"
    },
    "id": "Iy0aQB_3wptJ",
    "outputId": "fedc27c8-75da-4a9a-f1a9-f33425b9f8c0"
   },
   "outputs": [
    {
     "data": {
      "text/plain": [
       "3.999796049924953e-10"
      ]
     },
     "execution_count": 13,
     "metadata": {},
     "output_type": "execute_result"
    }
   ],
   "source": [
    "np.abs(actual_value - result)"
   ]
  },
  {
   "cell_type": "markdown",
   "metadata": {
    "id": "0SqOAqQASXGl"
   },
   "source": [
    "# 3. Plot Speedup for Different Number of Processes"
   ]
  },
  {
   "cell_type": "code",
   "execution_count": 22,
   "metadata": {
    "id": "_xXnsTflxJ-m"
   },
   "outputs": [],
   "source": [
    "nn = np.linspace(1, 4, num=4).astype(np.int)\n",
    "n_steps = int(1e5)\n",
    "\n",
    "for n_processes in nn:\n",
    "    !mpirun --allow-run-as-root -n {n_processes} python3 solution-lab-7.py {n_steps}"
   ]
  },
  {
   "cell_type": "code",
   "execution_count": 23,
   "metadata": {
    "id": "LHLh_Za7FFgi"
   },
   "outputs": [],
   "source": [
    "time_history = []\n",
    "\n",
    "for n_processes in nn:\n",
    "    with open(f'time-{n_processes}-{n_steps}.pkl', 'rb') as f:\n",
    "        time_elapsed = pickle.load(f)\n",
    "    time_history.append(time_elapsed)\n",
    "\n",
    "speed_up = time_history[0] / np.array(time_history)"
   ]
  },
  {
   "cell_type": "code",
   "execution_count": 27,
   "metadata": {
    "colab": {
     "base_uri": "https://localhost:8080/",
     "height": 501
    },
    "id": "TJdRkB_0xn9j",
    "outputId": "2f76b2f3-5266-4c5b-c9b8-7007a2217847"
   },
   "outputs": [
    {
     "data": {
      "image/png": "[encoded data removed]",
      "text/plain": [
       "<Figure size 720x576 with 1 Axes>"
      ]
     },
     "metadata": {
      "needs_background": "light"
     },
     "output_type": "display_data"
    }
   ],
   "source": [
    "plt.figure(figsize=(10, 8))\n",
    "plt.plot(nn, speed_up, '-o', alpha=2.)\n",
    "\n",
    "plt.xlabel('number of processes', fontsize=14)\n",
    "plt.ylabel('speedup', fontsize=14)\n",
    "\n",
    "plt.grid()\n",
    "plt.show()"
   ]
  },
  {
   "cell_type": "markdown",
   "metadata": {
    "id": "jH8ZmYQjSjQ-"
   },
   "source": [
    "# 5. Plot Error for Different Discretization"
   ]
  },
  {
   "cell_type": "code",
   "execution_count": 17,
   "metadata": {
    "id": "Zcso1taEyx7G"
   },
   "outputs": [],
   "source": [
    "n_processes = 4\n",
    "nn = np.logspace(1, 5, base=10, num=5).astype(np.int)\n",
    "\n",
    "for n_steps in nn:\n",
    "    !mpirun --allow-run-as-root -n {n_processes} python3 solution-lab-7.py {int(n_steps)}"
   ]
  },
  {
   "cell_type": "code",
   "execution_count": 18,
   "metadata": {
    "id": "gMZw5hpmRjHL"
   },
   "outputs": [],
   "source": [
    "error_history = []\n",
    "\n",
    "for n_steps in nn:\n",
    "    with open(f'values-{n_processes}-{n_steps}.pkl', 'rb') as f:\n",
    "        actual_value, result = pickle.load(f)\n",
    "        error = np.abs(actual_value - result)\n",
    "    error_history.append(error)"
   ]
  },
  {
   "cell_type": "code",
   "execution_count": 19,
   "metadata": {
    "colab": {
     "base_uri": "https://localhost:8080/",
     "height": 504
    },
    "id": "bXDYuVPBTMKn",
    "outputId": "cc360ced-8a43-4fd7-a83b-a1ebdbadeb64"
   },
   "outputs": [
    {
     "data": {
      "image/png": "[encoded data removed]",
      "text/plain": [
       "<Figure size 720x576 with 1 Axes>"
      ]
     },
     "metadata": {
      "needs_background": "light"
     },
     "output_type": "display_data"
    }
   ],
   "source": [
    "plt.figure(figsize=(10, 8))\n",
    "plt.plot(nn, error_history, '-o')\n",
    "\n",
    "plt.xlabel('number of steps', fontsize=14)\n",
    "plt.ylabel('integration error', fontsize=14)\n",
    "\n",
    "plt.yscale('log', basey=10)\n",
    "plt.xscale('log', basex=10)\n",
    "plt.grid()\n",
    "plt.show()"
   ]
  },
  {
   "cell_type": "code",
   "execution_count": 19,
   "metadata": {
    "id": "LTJGQyL9VEIM"
   },
   "outputs": [],
   "source": []
  }
 ],
 "metadata": {
  "colab": {
   "collapsed_sections": [],
   "name": "solution-lab-7.ipynb",
   "provenance": []
  },
  "kernelspec": {
   "display_name": "Python 3",
   "language": "python",
   "name": "python3"
  },
  "language_info": {
   "codemirror_mode": {
    "name": "ipython",
    "version": 3
   },
   "file_extension": ".py",
   "mimetype": "text/x-python",
   "name": "python",
   "nbconvert_exporter": "python",
   "pygments_lexer": "ipython3",
   "version": "3.7.4"
  }
 },
 "nbformat": 4,
 "nbformat_minor": 1
}
